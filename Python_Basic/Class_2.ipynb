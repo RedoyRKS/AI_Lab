{
  "nbformat": 4,
  "nbformat_minor": 0,
  "metadata": {
    "colab": {
      "provenance": []
    },
    "kernelspec": {
      "name": "python3",
      "display_name": "Python 3"
    },
    "language_info": {
      "name": "python"
    }
  },
  "cells": [
    {
      "cell_type": "markdown",
      "source": [
        "## List"
      ],
      "metadata": {
        "id": "QtNE0hQuzzAp"
      }
    },
    {
      "cell_type": "code",
      "execution_count": null,
      "metadata": {
        "id": "eRJK11jazuHm"
      },
      "outputs": [],
      "source": [
        "lst = list()\n",
        "print(lst)\n",
        "lst = [1,2,3,4,5,[6,7],'String']\n",
        "print(lst)"
      ]
    },
    {
      "cell_type": "code",
      "source": [
        "lst[5][0]\n",
        "print(lst[6][0])"
      ],
      "metadata": {
        "colab": {
          "base_uri": "https://localhost:8080/"
        },
        "id": "hIwbmBes1ml5",
        "outputId": "6c49e952-9ad6-4bfd-80cb-7b6907f96273"
      },
      "execution_count": null,
      "outputs": [
        {
          "output_type": "stream",
          "name": "stdout",
          "text": [
            "S\n"
          ]
        }
      ]
    },
    {
      "cell_type": "markdown",
      "source": [
        "### Append"
      ],
      "metadata": {
        "id": "JlwpZPNf4CVx"
      }
    },
    {
      "cell_type": "code",
      "source": [
        "lst.append(7)\n",
        "print(lst)\n",
        "\n",
        "lst.insert(2,10)\n",
        "print(lst)"
      ],
      "metadata": {
        "colab": {
          "base_uri": "https://localhost:8080/"
        },
        "id": "iq-1lRKe3SiZ",
        "outputId": "4b81c506-2dd9-42d7-d352-092fab150f54"
      },
      "execution_count": null,
      "outputs": [
        {
          "output_type": "stream",
          "name": "stdout",
          "text": [
            "[1, 2, 10, 3, 4, 5, [6, 7], 7]\n",
            "[1, 2, 10, 10, 3, 4, 5, [6, 7], 7]\n"
          ]
        }
      ]
    },
    {
      "cell_type": "markdown",
      "source": [
        "### Remove/Delete"
      ],
      "metadata": {
        "id": "Wz7jG8834gfL"
      }
    },
    {
      "cell_type": "code",
      "source": [
        "lst.pop()\n",
        "print(lst)\n",
        "\n",
        "lst.remove(10)\n",
        "print(lst)\n"
      ],
      "metadata": {
        "id": "RhJ0UbTp4fZq"
      },
      "execution_count": null,
      "outputs": []
    },
    {
      "cell_type": "code",
      "source": [
        "# lst[5].pop()\n",
        "# print(lst[5])\n",
        "\n",
        "lst[5].remove(6)\n",
        "print(lst)"
      ],
      "metadata": {
        "id": "nKa9TXSv5UwR"
      },
      "execution_count": null,
      "outputs": []
    },
    {
      "cell_type": "markdown",
      "source": [
        "### Search"
      ],
      "metadata": {
        "id": "f0X85YSy6dzr"
      }
    },
    {
      "cell_type": "code",
      "source": [
        "vowel = ['a','e','i','o','u']\n",
        "\n",
        "user_input = input(\"Enter a character\")\n",
        "\n",
        "if user_input in vowel:\n",
        "  print(\"Vowel\")\n",
        "else:\n",
        "  print(\"Consonant\")"
      ],
      "metadata": {
        "id": "h_FQI0gL6ZHh"
      },
      "execution_count": null,
      "outputs": []
    },
    {
      "cell_type": "markdown",
      "source": [
        "### Iterating a List"
      ],
      "metadata": {
        "id": "iRpgu3A77pcq"
      }
    },
    {
      "cell_type": "code",
      "source": [
        "n = len(lst)\n",
        "\n",
        "for i in range(0,len(lst)):\n",
        "  print(lst[i])\n",
        "\n",
        "for item in lst:\n",
        "  print(item)"
      ],
      "metadata": {
        "id": "bLSbSq8Z7reR"
      },
      "execution_count": null,
      "outputs": []
    },
    {
      "cell_type": "code",
      "source": [
        "lst2 = [i*i for i in range(0,10) if i*i < 50]\n",
        "lst2"
      ],
      "metadata": {
        "id": "Qsz7lpeC-VZ6"
      },
      "execution_count": null,
      "outputs": []
    },
    {
      "cell_type": "markdown",
      "source": [
        "### Slicing"
      ],
      "metadata": {
        "id": "L97FIhQf_Qkq"
      }
    },
    {
      "cell_type": "code",
      "source": [
        "lst1 = [1,2,3,4,5,6,67,8,9,10]\n",
        "lst3 = lst1[:]\n",
        "print(lst3)\n",
        "\n",
        "lst3 = lst1[2:5]\n",
        "print(lst3)"
      ],
      "metadata": {
        "colab": {
          "base_uri": "https://localhost:8080/"
        },
        "id": "G5M_YqS2_UNh",
        "outputId": "0b355f7b-9654-4a7d-b9a0-2d260e048c4d"
      },
      "execution_count": null,
      "outputs": [
        {
          "output_type": "stream",
          "name": "stdout",
          "text": [
            "[1, 2, 3, 4, 5, 6, 67, 8, 9, 10]\n",
            "[3, 4, 5]\n"
          ]
        }
      ]
    },
    {
      "cell_type": "code",
      "source": [
        "lst1[len(lst1)-1]\n",
        "print(lst1[-3])\n",
        "\n",
        "lst4 = lst1[2:-2]\n",
        "print(lst4)\n",
        "\n",
        "lst1.reverse()\n",
        "print(lst1)\n",
        "\n",
        "print(lst4 * 3)"
      ],
      "metadata": {
        "id": "A0CK3PiTAgYr"
      },
      "execution_count": null,
      "outputs": []
    },
    {
      "cell_type": "code",
      "source": [
        "lst1\n",
        "# lst1.append([11,12])\n",
        "# print(lst1)\n",
        "\n",
        "lst1.extend([11,12])\n",
        "print(lst1)"
      ],
      "metadata": {
        "id": "d2ai37gGCR1U"
      },
      "execution_count": null,
      "outputs": []
    },
    {
      "cell_type": "markdown",
      "source": [
        "### List Copy"
      ],
      "metadata": {
        "id": "jwfQlJzXD1Pi"
      }
    },
    {
      "cell_type": "code",
      "source": [
        "foo = [1, 2, 3]\n",
        "bar = foo\n",
        "bar.append(4)\n",
        "print(foo, bar, '\\n')\n",
        "\n",
        "foo = [1, 2, 3]\n",
        "bar = foo.copy()\n",
        "bar.append(5)\n",
        "print(foo, bar, '\\n')\n",
        "\n",
        "bar[2] = 10\n",
        "print(foo, bar)"
      ],
      "metadata": {
        "id": "c_fVx79GD05C"
      },
      "execution_count": null,
      "outputs": []
    },
    {
      "cell_type": "code",
      "source": [
        "foo = [1, 2, []]\n",
        "bar = foo\n",
        "bar[-1].append(4)\n",
        "print(foo, bar, '\\n')\n",
        "\n",
        "foo = [1, 2, []]\n",
        "bar = foo.copy()\n",
        "bar[-1].append(5)\n",
        "print(foo, bar, '\\n')\n",
        "\n",
        "import copy\n",
        "foo = [1, 2, []]\n",
        "bar = copy.deepcopy(foo)\n",
        "bar[-1].append(5)\n",
        "print(foo, bar, '\\n')"
      ],
      "metadata": {
        "id": "cdDyExVYE-g7"
      },
      "execution_count": null,
      "outputs": []
    },
    {
      "cell_type": "markdown",
      "source": [
        "### Practice Problem 1"
      ],
      "metadata": {
        "id": "3lRTcKqoJi5K"
      }
    },
    {
      "cell_type": "code",
      "source": [
        "## print all pair of numbers from a list\n",
        "lst = [1,2,3,4,5]"
      ],
      "metadata": {
        "id": "9xjR4rsgJ_fa"
      },
      "execution_count": null,
      "outputs": []
    },
    {
      "cell_type": "markdown",
      "source": [
        "## Dictionary"
      ],
      "metadata": {
        "id": "e30XpX14KJbC"
      }
    },
    {
      "cell_type": "code",
      "source": [
        "dictionary = {\n",
        "    \"name\" : \"tanvir\",\n",
        "    \"email\" : \"tanvir@cse.uiu.ac.bd\",\n",
        "    \"joined\" : 2023,\n",
        "    \"room no\" : 419,\n",
        "    \"courses\" : ['CN','AI', 'SPL'],\n",
        "    1 : 23,\n",
        "}"
      ],
      "metadata": {
        "id": "FV1fYmXgKLqb"
      },
      "execution_count": null,
      "outputs": []
    },
    {
      "cell_type": "code",
      "source": [
        "print(dictionary.keys())\n",
        "print(dictionary.values())"
      ],
      "metadata": {
        "id": "QZR7-E-gLlZr"
      },
      "execution_count": null,
      "outputs": []
    },
    {
      "cell_type": "code",
      "source": [
        "dictionary.get(\"courses\")\n",
        "dictionary.get(\"courses\")[0]\n",
        "print(\"education\" in dictionary)"
      ],
      "metadata": {
        "id": "xOYIhfV-MoOr"
      },
      "execution_count": null,
      "outputs": []
    },
    {
      "cell_type": "code",
      "source": [
        "dictionary['location'] = 'Dhaka'\n",
        "print(dictionary)"
      ],
      "metadata": {
        "colab": {
          "base_uri": "https://localhost:8080/"
        },
        "id": "grzEDxPJNgEL",
        "outputId": "5af1ee1b-74c2-455c-a220-71636d0b201b"
      },
      "execution_count": null,
      "outputs": [
        {
          "output_type": "stream",
          "name": "stdout",
          "text": [
            "{'name': 'tanvir', 'email': 'tanvir@cse.uiu.ac.bd', 'joined': 2023, 'room no': 419, 'courses': ['CN', 'AI', 'SPL'], 1: 23, 'location': 'Dhaka'}\n"
          ]
        }
      ]
    },
    {
      "cell_type": "code",
      "source": [
        "dictionary['courses'].append('SPL')"
      ],
      "metadata": {
        "id": "rvPznvjpN3Ty"
      },
      "execution_count": null,
      "outputs": []
    },
    {
      "cell_type": "code",
      "source": [
        "# dictionary.pop(\"location\")\n",
        "dictionary[\"courses\"].remove('SPL')\n",
        "print(dictionary)\n"
      ],
      "metadata": {
        "id": "4s0_tdrqN7mT"
      },
      "execution_count": null,
      "outputs": []
    },
    {
      "cell_type": "code",
      "source": [
        "for item in dictionary:\n",
        "  print(item, \":\" , dictionary[item])"
      ],
      "metadata": {
        "id": "peVuUhybOIn5"
      },
      "execution_count": null,
      "outputs": []
    },
    {
      "cell_type": "code",
      "source": [
        "for key,value in dictionary.items():\n",
        "  print(key, value)"
      ],
      "metadata": {
        "id": "Ugm1bAxdKQgl"
      },
      "execution_count": null,
      "outputs": []
    },
    {
      "cell_type": "markdown",
      "source": [
        "### Practice Problem 2"
      ],
      "metadata": {
        "id": "HiexqLPSP5ak"
      }
    },
    {
      "cell_type": "code",
      "source": [
        "## write a code that counts the frequency of each letter in a sentence"
      ],
      "metadata": {
        "id": "xK-jX-7KP40j"
      },
      "execution_count": null,
      "outputs": []
    },
    {
      "cell_type": "markdown",
      "source": [
        "## Class in Python"
      ],
      "metadata": {
        "id": "YUHWGffERhsK"
      }
    },
    {
      "cell_type": "code",
      "source": [
        "class Student:\n",
        "  def __init__(self,name,id):\n",
        "    self.lastname = name\n",
        "    self.studentid = id\n",
        "\n",
        "student = Student('Rahim',23294)\n",
        "print(student.lastname)"
      ],
      "metadata": {
        "colab": {
          "base_uri": "https://localhost:8080/"
        },
        "id": "TbXtNMrpRsla",
        "outputId": "29f7a13e-86f8-48ab-fd2f-5268d40018db"
      },
      "execution_count": null,
      "outputs": [
        {
          "output_type": "stream",
          "name": "stdout",
          "text": [
            "Rahim\n"
          ]
        }
      ]
    },
    {
      "cell_type": "code",
      "source": [
        "print('Hello')\n",
        "\n",
        "class Employee:\n",
        "  emp_num = 0 # works like static variable common to all objects of a class\n",
        "\n",
        "  def __init__(self, first, last, pay): # constructor\n",
        "    self.first = first # member variable\n",
        "    self.last = last # member variable\n",
        "    self.email = first + '.' + last + '@gmail.com' # member variable\n",
        "    self.pay = pay # member variable\n",
        "    apple = 1 # not member variable\n",
        "    Employee.emp_num += 1 # static variable\n",
        "\n",
        "  def fullname(self): # self is comparable to this keyword of Java\n",
        "    return f'{self.first} {self.last}'# \"%s %s\", self.first, self.last\n",
        "\n",
        "  def applyRaise(self, raise_):\n",
        "    self.pay = int(self.pay * raise_)\n",
        "\n",
        "  def __str__(self): # toString()\n",
        "    return f'{self.fullname()} - {self.email}: {self.pay}'\n",
        "\n",
        "  @staticmethod # (Decorator) same working procedure for all objects of a class\n",
        "  def is_holiday(day):\n",
        "    holidays = [1, 30, 49, 350]\n",
        "    if day in holidays:\n",
        "        return True\n",
        "    else:\n",
        "      return False\n",
        "\n",
        "\n",
        "print(Employee.emp_num) # 0\n",
        "\n",
        "emp_1 = Employee('Corey', 'Schafer', 50000)\n",
        "emp_2 = Employee('Test', 'Employee', 60000)\n",
        "\n",
        "\n",
        "print(Employee.emp_num) # 2\n",
        "\n",
        "print(emp_1.fullname()) # Corey Schafer\n",
        "\n",
        "emp_1.applyRaise(1.5)\n",
        "print(emp_1.pay) # 75000\n",
        "\n",
        "print(Employee.is_holiday(30)) # True\n",
        "print(Employee.is_holiday(31)) # False\n",
        "\n",
        "print(emp_1) # Corey Schafer corey.schafer@gmail.com 75000"
      ],
      "metadata": {
        "id": "roWVXZmIRkD6"
      },
      "execution_count": null,
      "outputs": []
    },
    {
      "cell_type": "code",
      "source": [
        "class Employee:\n",
        "  emp_num = 0\n",
        "  def __init__(self, first, last, pay):\n",
        "    self.first = first\n",
        "    self.last = last\n",
        "    self.email = first + '.' + last + '@email.com'\n",
        "    self.pay = pay\n",
        "    Employee.emp_num += 1\n",
        "\n",
        "  def fullname(self):\n",
        "    return f'{self.first} {self.last}'\n",
        "\n",
        "  def applyRaise(self,raise_):\n",
        "    self.pay = int(self.pay * raise_)\n",
        "\n",
        "\n",
        "class Developer(Employee):\n",
        "    def __init__(self, first, last, pay, prog_lang):\n",
        "        super().__init__(first, last, pay) # call parent class constructor\n",
        "        self.prog_lang = prog_lang\n",
        "\n",
        "\n",
        "class Manager(Employee):\n",
        "  def __init__(self, first, last, pay, employees=None):\n",
        "      super().__init__(first, last, pay)\n",
        "      if employees is None:\n",
        "          self.employees = []\n",
        "      else:\n",
        "          self.employees = employees\n",
        "\n",
        "  def add_emp(self, emp):\n",
        "      if emp not in self.employees:\n",
        "          self.employees.append(emp)\n",
        "\n",
        "  def remove_emp(self, emp):\n",
        "      if emp in self.employees:\n",
        "          self.employees.remove(emp)\n",
        "\n",
        "  def print_emps(self):\n",
        "      for emp in self.employees:\n",
        "          print('-->', emp.fullname())\n",
        "\n",
        "dev_1 = Developer('Corey', 'Schafer', 50000, 'Python')\n",
        "dev_2 = Developer('Test', 'Employee', 60000, 'Java')\n",
        "\n",
        "mgr_1 = Manager('Sue', 'Smith', 90000, [dev_1])\n",
        "print(mgr_1.email)\n",
        "\n",
        "mgr_1.add_emp(dev_2)\n",
        "mgr_1.print_emps()\n",
        "print()\n",
        "\n",
        "mgr_1.remove_emp(dev_2)\n",
        "mgr_1.print_emps()\n",
        "print()\n",
        "\n",
        "print(isinstance(mgr_1, Manager))  # Is mgr_1 an instance of Manager?\n",
        "print(isinstance(mgr_1, Employee))\n",
        "print(isinstance(mgr_1, Developer))\n",
        "print()\n",
        "\n",
        "print(issubclass(Developer, Employee)) # Is Developer class a subclass of Employee class??"
      ],
      "metadata": {
        "id": "h0J0N9Ta53HC"
      },
      "execution_count": null,
      "outputs": []
    }
  ]
}