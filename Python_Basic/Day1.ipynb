{
 "cells": [
  {
   "cell_type": "markdown",
   "metadata": {},
   "source": [
    "Python Basics\n"
   ]
  },
  {
   "cell_type": "code",
   "execution_count": 1,
   "metadata": {},
   "outputs": [
    {
     "name": "stdout",
     "output_type": "stream",
     "text": [
      "Hello world\n"
     ]
    }
   ],
   "source": [
    "print(\"Hello world\")"
   ]
  },
  {
   "cell_type": "code",
   "execution_count": 5,
   "metadata": {},
   "outputs": [
    {
     "name": "stdout",
     "output_type": "stream",
     "text": [
      "5 5.0 Hello\n",
      "<class 'int'> <class 'float'> <class 'str'>\n"
     ]
    }
   ],
   "source": [
    "a = 5\n",
    "b = 5.0\n",
    "c = \"Hello\"\n",
    "print(a, b, c)\n",
    "print(type(a), type(b), type(c))"
   ]
  },
  {
   "cell_type": "code",
   "execution_count": 6,
   "metadata": {},
   "outputs": [],
   "source": [
    "a = 10\n",
    "b = 20\n",
    "# int a = 10, b = 20\n",
    "a, b = 5, 10"
   ]
  },
  {
   "cell_type": "code",
   "execution_count": 9,
   "metadata": {},
   "outputs": [
    {
     "name": "stdout",
     "output_type": "stream",
     "text": [
      "My University is 💔UIU💔 located at Madani Avenue\n"
     ]
    }
   ],
   "source": [
    "University = \"💔UIU💔\"\n",
    "location = \"Madani Avenue\"\n",
    "print(f\"My University is {University} located at {location}\")"
   ]
  },
  {
   "cell_type": "markdown",
   "metadata": {},
   "source": [
    "Printing With Formatting\n"
   ]
  },
  {
   "cell_type": "markdown",
   "metadata": {},
   "source": [
    "print(a, 'apples')\n",
    "\n",
    "# formatted print; similar to printf(f\"{a} apples\");\n",
    "\n",
    "print(f\"{a} apples\")\n",
    "\n",
    "print(f\"{a} apples, {b} oranges\") # 5 apples, 10 oranges\n",
    "print(\"%d apples, %d oranges\" % (a, b))\n",
    "\n",
    "print(a, 'apples', b, 'oranges')\n"
   ]
  },
  {
   "cell_type": "code",
   "execution_count": 4,
   "metadata": {},
   "outputs": [
    {
     "data": {
      "text/plain": [
       "6"
      ]
     },
     "execution_count": 4,
     "metadata": {},
     "output_type": "execute_result"
    }
   ],
   "source": [
    "a = 5\n",
    "a\n",
    "a += 1\n",
    "a"
   ]
  },
  {
   "cell_type": "markdown",
   "metadata": {},
   "source": [
    "Operators\n"
   ]
  },
  {
   "cell_type": "code",
   "execution_count": 5,
   "metadata": {},
   "outputs": [
    {
     "data": {
      "text/plain": [
       "1.0"
      ]
     },
     "execution_count": 5,
     "metadata": {},
     "output_type": "execute_result"
    }
   ],
   "source": [
    "a = 3.9\n",
    "a -= 1  # 2.9\n",
    "a *= 2  # 5.8\n",
    "a //= 2  # 2.9\n",
    "a = a ** 2\n",
    "a %= 3\n",
    "a"
   ]
  },
  {
   "cell_type": "markdown",
   "metadata": {},
   "source": [
    "Strings\n"
   ]
  },
  {
   "cell_type": "code",
   "execution_count": 6,
   "metadata": {},
   "outputs": [
    {
     "name": "stdout",
     "output_type": "stream",
     "text": [
      "Hello\n",
      "HelloHelloHello\n"
     ]
    }
   ],
   "source": [
    "s = \"Hello\"\n",
    "print(s)\n",
    "s = s * 3\n",
    "print(s)"
   ]
  },
  {
   "cell_type": "code",
   "execution_count": 7,
   "metadata": {},
   "outputs": [
    {
     "name": "stdout",
     "output_type": "stream",
     "text": [
      "<class 'str'>\n",
      "12343 <class 'int'>\n"
     ]
    }
   ],
   "source": [
    "a = '12343'\n",
    "print(type(a))\n",
    "\n",
    "a = int(a)\n",
    "print(a, type(a))"
   ]
  },
  {
   "cell_type": "code",
   "execution_count": 10,
   "metadata": {},
   "outputs": [
    {
     "name": "stdout",
     "output_type": "stream",
     "text": [
      "100100\n",
      "100100\n"
     ]
    }
   ],
   "source": [
    "a = str(100)\n",
    "print(a+a)\n",
    "print(a*2)"
   ]
  },
  {
   "cell_type": "markdown",
   "metadata": {},
   "source": [
    "Input\n"
   ]
  },
  {
   "cell_type": "code",
   "execution_count": 11,
   "metadata": {},
   "outputs": [
    {
     "name": "stdout",
     "output_type": "stream",
     "text": [
      "My name is Redoy. I am 24 years old. My Student ID is 11201355\n",
      "My name is Redoy. I am 24 years old. My Student ID is 11201355\n"
     ]
    }
   ],
   "source": [
    "name = input(\"Enter your name\")\n",
    "age = int(input(\"Enter your age\"))\n",
    "id = int(input(\"Enter your student ID\"))\n",
    "\n",
    "print(f\"My name is {name}. I am {age} years old. My Student ID is {id}\")\n",
    "print(\"My name is %s. I am %d years old. My Student ID is %d\" % (name, age, id))"
   ]
  },
  {
   "cell_type": "markdown",
   "metadata": {},
   "source": [
    "Conditional Operator\n"
   ]
  },
  {
   "cell_type": "code",
   "execution_count": 12,
   "metadata": {},
   "outputs": [
    {
     "name": "stdout",
     "output_type": "stream",
     "text": [
      "Odd\n"
     ]
    }
   ],
   "source": [
    "marks = 75\n",
    "\n",
    "if marks % 2 == 0:\n",
    "    print(\"Even\")\n",
    "else:\n",
    "    print(\"Odd\")"
   ]
  },
  {
   "cell_type": "code",
   "execution_count": 13,
   "metadata": {},
   "outputs": [
    {
     "name": "stdout",
     "output_type": "stream",
     "text": [
      "B+\n"
     ]
    }
   ],
   "source": [
    "if (marks >= 55 and marks <= 65):\n",
    "    print(\"C\")\n",
    "elif marks > 65 and marks <= 75:\n",
    "    print(\"B+\")\n",
    "else:\n",
    "    print(\"A\")"
   ]
  },
  {
   "cell_type": "code",
   "execution_count": 14,
   "metadata": {},
   "outputs": [
    {
     "name": "stdout",
     "output_type": "stream",
     "text": [
      "1 < a <= 10\n",
      "a is greater than or equal to 1\n",
      "a is 2\n",
      "a is 2\n",
      "a is not 4\n"
     ]
    },
    {
     "name": "stderr",
     "output_type": "stream",
     "text": [
      "<>:11: SyntaxWarning: \"is\" with a literal. Did you mean \"==\"?\n",
      "<>:13: SyntaxWarning: \"is not\" with a literal. Did you mean \"!=\"?\n",
      "<>:11: SyntaxWarning: \"is\" with a literal. Did you mean \"==\"?\n",
      "<>:13: SyntaxWarning: \"is not\" with a literal. Did you mean \"!=\"?\n",
      "C:\\Users\\User\\AppData\\Local\\Temp\\ipykernel_9012\\3714639809.py:11: SyntaxWarning: \"is\" with a literal. Did you mean \"==\"?\n",
      "  if a is 2: # yes\n",
      "C:\\Users\\User\\AppData\\Local\\Temp\\ipykernel_9012\\3714639809.py:13: SyntaxWarning: \"is not\" with a literal. Did you mean \"!=\"?\n",
      "  if a is not 4: # yes\n"
     ]
    }
   ],
   "source": [
    "a = 2\n",
    "if a > 1 and a <= 10: # yes\n",
    "    print('1 < a <= 10')\n",
    "if a == 2 or a >= 1: # yes\n",
    "    print('a is greater than or equal to 1')\n",
    "if a == 2: # yes\n",
    "    print('a is 2')\n",
    "if a != 2: # no\n",
    "    print('a is not 2')\n",
    "\n",
    "if a is 2: # yes\n",
    "    print('a is 2')\n",
    "if a is not 4: # yes\n",
    "    print('a is not 4')"
   ]
  }
 ],
 "metadata": {
  "kernelspec": {
   "display_name": "Python 3",
   "language": "python",
   "name": "python3"
  },
  "language_info": {
   "codemirror_mode": {
    "name": "ipython",
    "version": 3
   },
   "file_extension": ".py",
   "mimetype": "text/x-python",
   "name": "python",
   "nbconvert_exporter": "python",
   "pygments_lexer": "ipython3",
   "version": "3.11.2"
  }
 },
 "nbformat": 4,
 "nbformat_minor": 2
}
