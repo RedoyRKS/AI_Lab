{
  "nbformat": 4,
  "nbformat_minor": 0,
  "metadata": {
    "colab": {
      "provenance": []
    },
    "kernelspec": {
      "name": "python3",
      "display_name": "Python 3"
    },
    "language_info": {
      "name": "python"
    }
  },
  "cells": [
    {
      "cell_type": "markdown",
      "source": [
        "# Python Basics"
      ],
      "metadata": {
        "id": "aHYp9dcN4aEf"
      }
    },
    {
      "cell_type": "code",
      "execution_count": null,
      "metadata": {
        "colab": {
          "base_uri": "https://localhost:8080/"
        },
        "id": "DUln26jw4YZ-",
        "outputId": "c1e0f154-8651-4eb5-b722-95796d85eb78"
      },
      "outputs": [
        {
          "output_type": "stream",
          "name": "stdout",
          "text": [
            "Hello world\n"
          ]
        }
      ],
      "source": [
        "print(\"Hello world\")"
      ]
    },
    {
      "cell_type": "code",
      "source": [
        "a = 5\n",
        "b = 5.0\n",
        "c = \"Hello\"\n",
        "print(a,b,c)\n",
        "# print(type(a), type(b), type(c))"
      ],
      "metadata": {
        "id": "EcdNomDG5Iue"
      },
      "execution_count": null,
      "outputs": []
    },
    {
      "cell_type": "code",
      "source": [
        "a = \"My Student ID is \"\n",
        "b = input(\"Enter a number\")\n",
        "print(a+b)\n",
        "c = 2.5\n",
        "print(int(c))"
      ],
      "metadata": {
        "id": "K-zce5Vm52k_"
      },
      "execution_count": null,
      "outputs": []
    },
    {
      "cell_type": "code",
      "source": [
        "a = 10\n",
        "b = 20\n",
        "# int a = 10, b = 20\n",
        "a,b = 5, 10"
      ],
      "metadata": {
        "id": "H2GKRakX89zR"
      },
      "execution_count": null,
      "outputs": []
    },
    {
      "cell_type": "code",
      "source": [
        "University = \"UIU\"\n",
        "location = \"Madani Avenue\"\n",
        "print(f\"My University is {University} located at {location}\")"
      ],
      "metadata": {
        "id": "L_ld3k60-A7D"
      },
      "execution_count": null,
      "outputs": []
    },
    {
      "cell_type": "markdown",
      "source": [
        "## Printing With Formatting"
      ],
      "metadata": {
        "id": "hPMl9hlR_Qcg"
      }
    },
    {
      "cell_type": "code",
      "source": [
        "print(a, 'apples')\n",
        "# formatted print; similar to printf(f\"{a} apples\");\n",
        "print(f\"{a} apples\")\n",
        "\n",
        "print(f\"{a} apples, {b} oranges\") # 5 apples, 10 oranges\n",
        "print(\"%d apples, %d oranges\" % (a, b))\n",
        "\n",
        "print(a, 'apples', b, 'oranges')"
      ],
      "metadata": {
        "id": "VfanRpVx_PRp"
      },
      "execution_count": null,
      "outputs": []
    },
    {
      "cell_type": "code",
      "source": [
        "a = 5\n",
        "a"
      ],
      "metadata": {
        "id": "EwLMTYTF_ntB"
      },
      "execution_count": null,
      "outputs": []
    },
    {
      "cell_type": "code",
      "source": [
        "a += 1\n",
        "a"
      ],
      "metadata": {
        "id": "ccTQhQVvAb41"
      },
      "execution_count": null,
      "outputs": []
    },
    {
      "cell_type": "markdown",
      "source": [
        "### Operators"
      ],
      "metadata": {
        "id": "YgPM9hf9CZl1"
      }
    },
    {
      "cell_type": "code",
      "source": [
        "a = 3.9\n",
        "a -= 1 # 2.9\n",
        "a *= 2 # 5.8\n",
        "a //= 2 # 2.9\n",
        "a = a ** 2\n",
        "a %= 3\n",
        "a"
      ],
      "metadata": {
        "colab": {
          "base_uri": "https://localhost:8080/"
        },
        "id": "K_JtIg3oAzOi",
        "outputId": "d3bd9cda-a6a2-40cc-be39-8efc99a02ef5"
      },
      "execution_count": null,
      "outputs": [
        {
          "output_type": "execute_result",
          "data": {
            "text/plain": [
              "1.0"
            ]
          },
          "metadata": {},
          "execution_count": 51
        }
      ]
    },
    {
      "cell_type": "markdown",
      "source": [
        "### Strings"
      ],
      "metadata": {
        "id": "vpXJU_i4Cg1m"
      }
    },
    {
      "cell_type": "code",
      "source": [
        "s = \"Hello\"\n",
        "print(s)\n",
        "s = s * 3\n",
        "print(s)"
      ],
      "metadata": {
        "id": "LKxB3D3bCkDk"
      },
      "execution_count": null,
      "outputs": []
    },
    {
      "cell_type": "code",
      "source": [
        "a = '12343'\n",
        "print(type(a))\n",
        "\n",
        "a = int(a)\n",
        "print(a, type(a))"
      ],
      "metadata": {
        "id": "sGu3SNHdDGgQ"
      },
      "execution_count": null,
      "outputs": []
    },
    {
      "cell_type": "code",
      "source": [
        "a = str(100)\n",
        "print(a+a)\n",
        "print(a*2)"
      ],
      "metadata": {
        "id": "08F96iC2DYFs"
      },
      "execution_count": null,
      "outputs": []
    },
    {
      "cell_type": "markdown",
      "source": [
        "### Input"
      ],
      "metadata": {
        "id": "BMG-htiSDix8"
      }
    },
    {
      "cell_type": "code",
      "source": [
        "name = input(\"Enter your name\")\n",
        "age = int(input(\"Enter your age\"))\n",
        "id = int(input(\"Enter your student ID\"))\n",
        "\n",
        "print(f\"My name is {name}. I am {age} years old. My Student ID is {id}\")\n",
        "print(\"My name is %s. I am %d years old. My Student ID is %d\" %(name,age,id))"
      ],
      "metadata": {
        "id": "DwsTJ7nLDlRs"
      },
      "execution_count": null,
      "outputs": []
    },
    {
      "cell_type": "markdown",
      "source": [
        "### Conditional Operator"
      ],
      "metadata": {
        "id": "Gr8alIJiFg48"
      }
    },
    {
      "cell_type": "code",
      "source": [
        "marks = 75\n",
        "\n",
        "if marks % 2 == 0:\n",
        "  print(\"Even\")\n",
        "else:\n",
        "  print(\"Odd\")"
      ],
      "metadata": {
        "colab": {
          "base_uri": "https://localhost:8080/"
        },
        "id": "c_h2ZiXgFnfc",
        "outputId": "1f5518c1-9a60-4372-f900-cbc6ada88829"
      },
      "execution_count": null,
      "outputs": [
        {
          "output_type": "stream",
          "name": "stdout",
          "text": [
            "Odd\n"
          ]
        }
      ]
    },
    {
      "cell_type": "code",
      "source": [
        "if (marks >= 55 and marks <= 65):\n",
        "  print(\"C\")\n",
        "elif marks > 65 and marks <= 75:\n",
        "  print(\"B+\")\n",
        "else:\n",
        "  print(\"A\")"
      ],
      "metadata": {
        "id": "krbqgbMcJGBE"
      },
      "execution_count": null,
      "outputs": []
    },
    {
      "cell_type": "code",
      "source": [
        "day = \"Monday\"\n",
        "\n",
        "if day == \"Monday\" or day == \"Thursday\":\n",
        "  print(\"Chuti\")"
      ],
      "metadata": {
        "colab": {
          "base_uri": "https://localhost:8080/"
        },
        "id": "dmsE1VViKQIb",
        "outputId": "18e4d646-222d-4b78-c624-9226b45bb7e5"
      },
      "execution_count": null,
      "outputs": [
        {
          "output_type": "stream",
          "name": "stdout",
          "text": [
            "Chuti\n"
          ]
        }
      ]
    },
    {
      "cell_type": "code",
      "source": [
        "a = 2\n",
        "if a > 1 and a <= 10: # yes\n",
        "    print('1 < a <= 10')\n",
        "if a == 2 or a >= 1: # yes\n",
        "    print('a is greater than or equal to 1')\n",
        "if a == 2: # yes\n",
        "    print('a is 2')\n",
        "if a != 2: # no\n",
        "    print('a is not 2')\n",
        "\n",
        "if a is 2: # yes\n",
        "    print('a is 2')\n",
        "if a is not 4: # yes\n",
        "    print('a is not 4')"
      ],
      "metadata": {
        "id": "hZ__t4S4Kmzb"
      },
      "execution_count": null,
      "outputs": []
    },
    {
      "cell_type": "markdown",
      "source": [
        "### For loops"
      ],
      "metadata": {
        "id": "G_RSppxbKog7"
      }
    },
    {
      "cell_type": "code",
      "source": [
        "for i in range(10,0,-1):\n",
        "  print(i)"
      ],
      "metadata": {
        "id": "iWUgYl1PKqhr"
      },
      "execution_count": null,
      "outputs": []
    },
    {
      "cell_type": "code",
      "source": [
        "for i in range(10,0,-1):\n",
        "  print(i)\n",
        "  if i == 5:\n",
        "    continue\n"
      ],
      "metadata": {
        "id": "HAp7PF8QLyOK"
      },
      "execution_count": null,
      "outputs": []
    },
    {
      "cell_type": "code",
      "source": [
        "n = 0\n",
        "while True:\n",
        "    print(n)\n",
        "    # n++, n--, --n, ++n is not supported\n",
        "    n += 1 #1\n",
        "    n = n+1 #2\n",
        "    n = n-1 #1\n",
        "    n -= 1 #0\n",
        "    n *= 2 #0\n",
        "    n /= 2 #0\n",
        "    n += 1 #1\n",
        "    if n == 5: break"
      ],
      "metadata": {
        "id": "gqzHm90oMqsr"
      },
      "execution_count": null,
      "outputs": []
    },
    {
      "cell_type": "code",
      "source": [
        "i = 1\n",
        "while i < 6: # while i in range(1,6,2)\n",
        "    print(i)\n",
        "    i += 2"
      ],
      "metadata": {
        "id": "qMAkElnrNUWT"
      },
      "execution_count": null,
      "outputs": []
    },
    {
      "cell_type": "code",
      "source": [
        "i = 1\n",
        "while i < 100:\n",
        "    if i % 10 == 0:\n",
        "        print(i)\n",
        "    elif i % 23 == 0:\n",
        "        print(i, 'need to break')\n",
        "        break\n",
        "    i += 3"
      ],
      "metadata": {
        "id": "B1R3N5TBNpzC"
      },
      "execution_count": null,
      "outputs": []
    }
  ]
}